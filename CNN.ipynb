{
 "cells": [
  {
   "cell_type": "code",
   "execution_count": 289,
   "metadata": {},
   "outputs": [],
   "source": [
    "from tensorflow.python.keras.preprocessing.image import ImageDataGenerator\n",
    "from tensorflow.python.keras.models import Sequential\n",
    "from tensorflow.python.keras.layers import Conv2D, MaxPooling2D\n",
    "from tensorflow.python.keras.layers import Activation, Dropout, Flatten, Dense\n",
    "from tensorflow.python.keras.utils import to_categorical\n",
    "from tensorflow.python.keras.models import model_from_json\n",
    "import numpy as np\n",
    "import pandas as pd"
   ]
  },
  {
   "cell_type": "code",
   "execution_count": 331,
   "metadata": {},
   "outputs": [
    {
     "name": "stdout",
     "output_type": "stream",
     "text": [
      "Found 10868 images belonging to 8 classes.\n"
     ]
    }
   ],
   "source": [
    "train_dir = 'Train'\n",
    "\n",
    "val_dir = 'Validation'\n",
    "\n",
    "test_dir = 'Test'\n",
    "\n",
    "img_width, img_height = 28, 28\n",
    "input_shape = (img_width, img_height, 3)\n",
    "\n",
    "epochs = 30\n",
    "\n",
    "batch_size = 16\n",
    "\n",
    "nb_train_samples = 11120\n",
    "nb_validation_samples = 1656\n",
    "nb_test_samples = 1152\n",
    "\n",
    "\n",
    "model = Sequential()\n",
    "model.add(Conv2D(32, (3, 3), input_shape=input_shape))\n",
    "model.add(Activation('relu'))\n",
    "model.add(MaxPooling2D(pool_size=(2, 2)))\n",
    "\n",
    "model.add(Conv2D(32, (3, 3)))\n",
    "model.add(Activation('relu'))\n",
    "model.add(MaxPooling2D(pool_size=(2, 2)))\n",
    "\n",
    "model.add(Conv2D(64, (3, 3)))\n",
    "model.add(Activation('relu'))\n",
    "model.add(MaxPooling2D(pool_size=(2, 2)))\n",
    "\n",
    "model.add(Flatten())\n",
    "model.add(Dense(64))\n",
    "model.add(Activation('relu'))\n",
    "model.add(Dropout(0.5))\n",
    "model.add(Dense(8))\n",
    "model.add(Activation('softmax'))\n",
    "\n",
    "model.compile(loss='sparse_categorical_crossentropy',\n",
    "              optimizer='sgd',\n",
    "              metrics=['accuracy'])\n",
    "\n",
    "datagen = ImageDataGenerator(rescale=1. / 255)\n",
    "\n",
    "train_generator = datagen.flow_from_directory(\n",
    "    train_dir,\n",
    "    target_size=(img_width, img_height),\n",
    "    batch_size=batch_size,\n",
    "    class_mode='sparse')"
   ]
  },
  {
   "cell_type": "code",
   "execution_count": 332,
   "metadata": {},
   "outputs": [
    {
     "name": "stdout",
     "output_type": "stream",
     "text": [
      "Found 1656 images belonging to 8 classes.\n"
     ]
    }
   ],
   "source": [
    "val_generator = datagen.flow_from_directory(\n",
    "    val_dir,\n",
    "    target_size=(img_width, img_height),\n",
    "    batch_size=batch_size,\n",
    "    class_mode='sparse')"
   ]
  },
  {
   "cell_type": "code",
   "execution_count": 333,
   "metadata": {},
   "outputs": [
    {
     "name": "stdout",
     "output_type": "stream",
     "text": [
      "Found 1152 images belonging to 8 classes.\n"
     ]
    }
   ],
   "source": [
    "test_generator = datagen.flow_from_directory(\n",
    "    test_dir,\n",
    "    target_size=(img_width, img_height),\n",
    "    batch_size=batch_size,\n",
    "    class_mode='sparse')"
   ]
  },
  {
   "cell_type": "code",
   "execution_count": 334,
   "metadata": {},
   "outputs": [
    {
     "name": "stdout",
     "output_type": "stream",
     "text": [
      "Epoch 1/30\n",
      "695/695 [==============================] - 130s 188ms/step - loss: 2.0443 - acc: 0.1978 - val_loss: 1.9410 - val_acc: 0.3174\n",
      "Epoch 2/30\n",
      "695/695 [==============================] - 27s 39ms/step - loss: 1.6310 - acc: 0.3784 - val_loss: 1.1900 - val_acc: 0.6141\n",
      "Epoch 3/30\n",
      "695/695 [==============================] - 27s 39ms/step - loss: 1.1360 - acc: 0.5846 - val_loss: 0.9750 - val_acc: 0.6650\n",
      "Epoch 4/30\n",
      "695/695 [==============================] - 27s 39ms/step - loss: 0.8726 - acc: 0.6808 - val_loss: 0.8892 - val_acc: 0.6857\n",
      "Epoch 5/30\n",
      "695/695 [==============================] - 28s 41ms/step - loss: 0.7164 - acc: 0.7380 - val_loss: 0.8714 - val_acc: 0.7306\n",
      "Epoch 6/30\n",
      "695/695 [==============================] - 26s 38ms/step - loss: 0.6058 - acc: 0.7759 - val_loss: 0.7448 - val_acc: 0.7403\n",
      "Epoch 7/30\n",
      "695/695 [==============================] - 26s 38ms/step - loss: 0.5277 - acc: 0.8049 - val_loss: 0.8860 - val_acc: 0.7294\n",
      "Epoch 8/30\n",
      "695/695 [==============================] - 25s 36ms/step - loss: 0.4978 - acc: 0.8175 - val_loss: 0.7654 - val_acc: 0.7652\n",
      "Epoch 9/30\n",
      "695/695 [==============================] - 26s 37ms/step - loss: 0.4331 - acc: 0.8377 - val_loss: 0.9623 - val_acc: 0.7124\n",
      "Epoch 10/30\n",
      "695/695 [==============================] - 28s 40ms/step - loss: 0.4121 - acc: 0.8490 - val_loss: 0.9329 - val_acc: 0.7458\n",
      "Epoch 11/30\n",
      "695/695 [==============================] - 27s 39ms/step - loss: 0.3848 - acc: 0.8563 - val_loss: 0.8520 - val_acc: 0.7579\n",
      "Epoch 12/30\n",
      "695/695 [==============================] - 26s 37ms/step - loss: 0.3524 - acc: 0.8694 - val_loss: 0.8981 - val_acc: 0.7664\n",
      "Epoch 13/30\n",
      "695/695 [==============================] - 27s 39ms/step - loss: 0.3315 - acc: 0.8724 - val_loss: 0.7928 - val_acc: 0.7955\n",
      "Epoch 14/30\n",
      "695/695 [==============================] - 29s 42ms/step - loss: 0.3138 - acc: 0.8836 - val_loss: 0.8793 - val_acc: 0.7664\n",
      "Epoch 15/30\n",
      "695/695 [==============================] - 28s 40ms/step - loss: 0.2947 - acc: 0.8877 - val_loss: 0.8612 - val_acc: 0.7761\n",
      "Epoch 16/30\n",
      "695/695 [==============================] - 28s 41ms/step - loss: 0.2834 - acc: 0.8960 - val_loss: 0.9564 - val_acc: 0.7767\n",
      "Epoch 17/30\n",
      "695/695 [==============================] - 25s 36ms/step - loss: 0.2654 - acc: 0.8999 - val_loss: 1.0391 - val_acc: 0.7494\n",
      "Epoch 18/30\n",
      "695/695 [==============================] - 28s 40ms/step - loss: 0.2575 - acc: 0.9040 - val_loss: 0.9026 - val_acc: 0.7870\n",
      "Epoch 19/30\n",
      "695/695 [==============================] - 26s 38ms/step - loss: 0.2411 - acc: 0.9103 - val_loss: 1.0782 - val_acc: 0.7731\n",
      "Epoch 20/30\n",
      "695/695 [==============================] - 27s 39ms/step - loss: 0.2325 - acc: 0.9127 - val_loss: 0.8485 - val_acc: 0.7858\n",
      "Epoch 21/30\n",
      "695/695 [==============================] - 27s 39ms/step - loss: 0.2254 - acc: 0.9195 - val_loss: 0.9524 - val_acc: 0.7919\n",
      "Epoch 22/30\n",
      "695/695 [==============================] - 28s 40ms/step - loss: 0.2073 - acc: 0.9244 - val_loss: 0.8817 - val_acc: 0.7998\n",
      "Epoch 23/30\n",
      "695/695 [==============================] - 28s 40ms/step - loss: 0.2154 - acc: 0.9212 - val_loss: 0.8929 - val_acc: 0.7894\n",
      "Epoch 24/30\n",
      "695/695 [==============================] - 28s 40ms/step - loss: 0.1873 - acc: 0.9321 - val_loss: 1.0784 - val_acc: 0.7840\n",
      "Epoch 25/30\n",
      "695/695 [==============================] - 28s 40ms/step - loss: 0.1805 - acc: 0.9337 - val_loss: 0.9670 - val_acc: 0.7925\n",
      "Epoch 26/30\n",
      "695/695 [==============================] - 28s 40ms/step - loss: 0.1747 - acc: 0.9382 - val_loss: 0.9667 - val_acc: 0.7937\n",
      "Epoch 27/30\n",
      "695/695 [==============================] - 28s 41ms/step - loss: 0.1589 - acc: 0.9429 - val_loss: 0.9810 - val_acc: 0.8034\n",
      "Epoch 28/30\n",
      "695/695 [==============================] - 28s 40ms/step - loss: 0.1634 - acc: 0.9390 - val_loss: 0.9475 - val_acc: 0.7973\n",
      "Epoch 29/30\n",
      "695/695 [==============================] - 28s 40ms/step - loss: 0.1454 - acc: 0.9479 - val_loss: 0.9370 - val_acc: 0.7894\n",
      "Epoch 30/30\n",
      "695/695 [==============================] - 28s 40ms/step - loss: 0.1413 - acc: 0.9471 - val_loss: 1.0887 - val_acc: 0.7925\n"
     ]
    },
    {
     "data": {
      "text/plain": [
       "<tensorflow.python.keras.callbacks.History at 0x7f5092df7ef0>"
      ]
     },
     "execution_count": 334,
     "metadata": {},
     "output_type": "execute_result"
    }
   ],
   "source": [
    "model.fit_generator(\n",
    "    train_generator,\n",
    "    steps_per_epoch=nb_train_samples // batch_size,\n",
    "    epochs=epochs,\n",
    "    validation_data=val_generator,\n",
    "    validation_steps=nb_validation_samples // batch_size)"
   ]
  },
  {
   "cell_type": "code",
   "execution_count": 335,
   "metadata": {},
   "outputs": [
    {
     "name": "stdout",
     "output_type": "stream",
     "text": [
      "Аккуратность на тестовых данных: 74.39%\n"
     ]
    }
   ],
   "source": [
    "scores = model.evaluate_generator(test_generator, nb_test_samples // batch_size)\n",
    "print(\"Аккуратность на тестовых данных: %.2f%%\" % (scores[1]*100))"
   ]
  },
  {
   "cell_type": "code",
   "execution_count": 336,
   "metadata": {},
   "outputs": [],
   "source": [
    "model_json = model.to_json()\n",
    "# Записываем модель в файл\n",
    "json_file = open(\"mnist_model.json\", \"w\")\n",
    "json_file.write(model_json)\n",
    "json_file.close()\n",
    "\n",
    "model_yaml = model.to_yaml()\n",
    "yaml_file = open(\"mnist_model.yml\", \"w\")\n",
    "# Записываем модель в файл\n",
    "yaml_file.write(model_yaml)\n",
    "yaml_file.close()\n",
    "model.save_weights(\"mnist_model.h5\")"
   ]
  },
  {
   "cell_type": "code",
   "execution_count": 337,
   "metadata": {},
   "outputs": [
    {
     "name": "stdout",
     "output_type": "stream",
     "text": [
      "Точность модели на тестовых данных: 74.39%\n"
     ]
    }
   ],
   "source": [
    "json_file = open(\"mnist_model.json\", \"r\")\n",
    "loaded_model_json = json_file.read()\n",
    "json_file.close()\n",
    "# Создаем модель на основе загруженных данных\n",
    "loaded_model = model_from_json(loaded_model_json)\n",
    "# Загружаем веса в модель\n",
    "loaded_model.load_weights(\"mnist_model.h5\")\n",
    "loaded_model.compile(loss=\"sparse_categorical_crossentropy\", optimizer=\"SGD\", metrics=[\"accuracy\"])\n",
    "# Проверяем модель на тестовых данных\n",
    "scores = model.evaluate_generator(test_generator, nb_test_samples // batch_size)\n",
    "print(\"Точность модели на тестовых данных: %.2f%%\" % (scores[1]*100))"
   ]
  },
  {
   "cell_type": "code",
   "execution_count": 383,
   "metadata": {},
   "outputs": [
    {
     "name": "stdout",
     "output_type": "stream",
     "text": [
      "Found 1 images belonging to 1 classes.\n"
     ]
    }
   ],
   "source": [
    "test_dir = 'ts'\n",
    "test_generator = datagen.flow_from_directory(\n",
    "    test_dir,\n",
    "    target_size=(img_width, img_height),\n",
    "    batch_size=batch_size,\n",
    "    class_mode='sparse')"
   ]
  },
  {
   "cell_type": "code",
   "execution_count": 384,
   "metadata": {},
   "outputs": [
    {
     "name": "stdout",
     "output_type": "stream",
     "text": [
      "2\n"
     ]
    }
   ],
   "source": [
    "test_generator.reset()\n",
    "predict = model.predict_generator(test_generator, steps = None, max_queue_size=10, workers=1, use_multiprocessing=False, verbose=0)\n",
    "for i in predict:\n",
    "    print(np.argmax(i))\n",
    "\n"
   ]
  },
  {
   "cell_type": "code",
   "execution_count": null,
   "metadata": {},
   "outputs": [],
   "source": []
  },
  {
   "cell_type": "code",
   "execution_count": null,
   "metadata": {},
   "outputs": [],
   "source": []
  },
  {
   "cell_type": "code",
   "execution_count": null,
   "metadata": {},
   "outputs": [],
   "source": []
  },
  {
   "cell_type": "code",
   "execution_count": null,
   "metadata": {},
   "outputs": [],
   "source": []
  },
  {
   "cell_type": "code",
   "execution_count": null,
   "metadata": {},
   "outputs": [],
   "source": []
  }
 ],
 "metadata": {
  "kernelspec": {
   "display_name": "Python 3",
   "language": "python",
   "name": "python3"
  }
 },
 "nbformat": 4,
 "nbformat_minor": 2
}
